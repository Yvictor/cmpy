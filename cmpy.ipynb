{
 "cells": [
  {
   "cell_type": "code",
   "execution_count": 1,
   "metadata": {
    "collapsed": true
   },
   "outputs": [],
   "source": [
    "from selenium import webdriver\n",
    "from pyvirtualdisplay import Display\n",
    "from bs4 import BeautifulSoup as BS\n",
    "from PIL import Image\n",
    "import io\n",
    "import os\n",
    "import re\n",
    "import base64\n",
    "import numpy as np\n",
    "import pytesseract"
   ]
  },
  {
   "cell_type": "code",
   "execution_count": 2,
   "metadata": {
    "collapsed": true
   },
   "outputs": [],
   "source": [
    "import pandas as pd"
   ]
  },
  {
   "cell_type": "code",
   "execution_count": 3,
   "metadata": {
    "collapsed": false
   },
   "outputs": [
    {
     "data": {
      "text/plain": [
       "<Display cmd_param=['Xvfb', '-br', '-nolisten', 'tcp', '-screen', '0', '1024x768x24', ':1049'] cmd=['Xvfb', '-br', '-nolisten', 'tcp', '-screen', '0', '1024x768x24', ':1049'] oserror=None return_code=None stdout=\"None\" stderr=\"None\" timeout_happened=False>"
      ]
     },
     "execution_count": 3,
     "metadata": {},
     "output_type": "execute_result"
    }
   ],
   "source": [
    "display = Display(visible=0, size=(1024, 768))\n",
    "display.start()"
   ]
  },
  {
   "cell_type": "code",
   "execution_count": 4,
   "metadata": {
    "collapsed": true
   },
   "outputs": [],
   "source": [
    "driver = webdriver.Firefox()"
   ]
  },
  {
   "cell_type": "code",
   "execution_count": 5,
   "metadata": {
    "collapsed": true
   },
   "outputs": [],
   "source": [
    "home_page = 'http://gcis.nat.gov.tw/pub/cmpy/cmpyInfoListAction.do'\n",
    "driver.get(home_page)"
   ]
  },
  {
   "cell_type": "code",
   "execution_count": 6,
   "metadata": {
    "collapsed": true
   },
   "outputs": [],
   "source": [
    "driver.find_element_by_xpath('//input[@name=\"selCmpyType\"][@value=\"1\"]').click()"
   ]
  },
  {
   "cell_type": "code",
   "execution_count": 8,
   "metadata": {
    "collapsed": false
   },
   "outputs": [],
   "source": [
    "driver.find_element_by_xpath('//input[@name=\"selQueryType\"][@value=\"2\"]').click()"
   ]
  },
  {
   "cell_type": "code",
   "execution_count": 9,
   "metadata": {
    "collapsed": true
   },
   "outputs": [],
   "source": [
    "driver.find_element_by_name('queryStr').send_keys('25022092')"
   ]
  },
  {
   "cell_type": "code",
   "execution_count": 10,
   "metadata": {
    "collapsed": false
   },
   "outputs": [
    {
     "data": {
      "image/png": "[encoded data removed]",
      "text/plain": [
       "<PIL.PngImagePlugin.PngImageFile image mode=RGBA size=120x40 at 0x7FB582AC2160>"
      ]
     },
     "execution_count": 10,
     "metadata": {},
     "output_type": "execute_result"
    }
   ],
   "source": [
    "capt_b64 = driver.find_element_by_id('kaptcha').screenshot_as_base64\n",
    "capt_img = Image.open(io.BytesIO(base64.b64decode(capt_b64)))\n",
    "capt_img"
   ]
  },
  {
   "cell_type": "code",
   "execution_count": 11,
   "metadata": {
    "collapsed": false
   },
   "outputs": [
    {
     "data": {
      "text/plain": [
       "'240029'"
      ]
     },
     "execution_count": 11,
     "metadata": {},
     "output_type": "execute_result"
    }
   ],
   "source": [
    "capt_str = pytesseract.image_to_string(capt_img)\n",
    "capt_str = ('').join(re.findall(\"[0-9]\",capt_str))#('').join(capt_str.split(' '))\n",
    "capt_str"
   ]
  },
  {
   "cell_type": "code",
   "execution_count": 12,
   "metadata": {
    "collapsed": true
   },
   "outputs": [],
   "source": [
    "driver.find_element_by_name('imageCode').send_keys(capt_str)"
   ]
  },
  {
   "cell_type": "code",
   "execution_count": 13,
   "metadata": {
    "collapsed": true
   },
   "outputs": [],
   "source": [
    "driver.find_element_by_name('submitData').click()"
   ]
  },
  {
   "cell_type": "code",
   "execution_count": 35,
   "metadata": {
    "collapsed": true
   },
   "outputs": [],
   "source": [
    "#driver.back()"
   ]
  },
  {
   "cell_type": "code",
   "execution_count": 14,
   "metadata": {
    "collapsed": false
   },
   "outputs": [],
   "source": [
    "driver.find_element_by_css_selector(\".w-13c a\").click()"
   ]
  },
  {
   "cell_type": "code",
   "execution_count": 26,
   "metadata": {
    "collapsed": false
   },
   "outputs": [],
   "source": [
    "#driver.find_element_by_xpath(\"//a[@href='/pub/cmpy/cmpyInfoAction.do?method=detail&banNo=]\").click()"
   ]
  },
  {
   "cell_type": "code",
   "execution_count": 15,
   "metadata": {
    "collapsed": true
   },
   "outputs": [],
   "source": [
    "with open(\"captcha_data/%s.png\"%capt_str,\"wb\") as capt:\n",
    "    capt.write(base64.b64decode(capt_b64))"
   ]
  },
  {
   "cell_type": "code",
   "execution_count": 16,
   "metadata": {
    "collapsed": false
   },
   "outputs": [],
   "source": [
    "soup = BS(driver.page_source,\"lxml\")"
   ]
  },
  {
   "cell_type": "code",
   "execution_count": 50,
   "metadata": {
    "collapsed": false
   },
   "outputs": [],
   "source": [
    "#! conda install html5lib -y"
   ]
  },
  {
   "cell_type": "code",
   "execution_count": 23,
   "metadata": {
    "collapsed": false
   },
   "outputs": [],
   "source": [
    "#pd.read_html(driver.page_source)[4]#, flavor='html5lib')"
   ]
  },
  {
   "cell_type": "code",
   "execution_count": 26,
   "metadata": {
    "collapsed": false
   },
   "outputs": [
    {
     "name": "stdout",
     "output_type": "stream",
     "text": [
      " \n",
      "統一編號\n",
      "25022092\n",
      "\n",
      "\t\t\t\t\t\t\n",
      "\n",
      " \n",
      "公司狀況\n",
      "\n",
      "            核准設立\n",
      " \n",
      "            \n",
      "(備註)\n",
      "\n",
      " \n",
      "公司名稱\n",
      "\n",
      "            家有生物科技有限公司\n",
      "\n",
      "            \n",
      "\n",
      "                              「工商憑證申請」\n",
      "                              「工商憑證開卡」\n",
      "\t\t\t「廠商英文名稱查詢(限經營出進口或買賣業務者)」本項查詢服務係連結至本部國際貿易局 > 出進口廠商管理系統 > 廠商資料查詢網站，使用本服務或資料內容有疑慮，請與該局出進口廠商登記相關業務聯絡窗口聯絡。出進口廠商登記相關業務聯絡窗口：貿易服務組：(02)2397-7358、(02)2397-7353、(02)2397-7360、(02)2397-7359高雄辦事處：(07)2711-171 分機218已了解，開始查詢關閉\n",
      "\n",
      "\n",
      "\n",
      "已了解，開始查詢\n",
      "已了解，開始查詢\n",
      "\n",
      "關閉\n",
      "關閉\n",
      " \n",
      "資本總額(元)\n",
      "5,000,000\n",
      " \n",
      "代表人姓名\n",
      "\n",
      "\t\t\t\t\t\t\n",
      "\t\t\t\t\t\t楊有家\n",
      "\n",
      "\t\t\t\t\t\t\n",
      "\t\t\t\t\t\n",
      " \n",
      "公司所在地\n",
      "\n",
      "\t\t\t\t\t\t\n",
      "\t\t\t            雲林縣斗六市興華街1-3號\n",
      "  \n",
      "\t\t\t\t\t\t\n",
      "\n",
      "\n",
      "\n",
      "\n",
      " \n",
      "登記機關\n",
      "經濟部中部辦公室\n",
      "\n",
      " \n",
      "核准設立日期\n",
      "098年08月28日\n",
      "\n",
      " \n",
      "最後核准變更日期\n",
      "104年12月09日\n",
      "\n",
      " \n",
      "\n",
      "\t\t\t\t\t\t所營事業資料\n",
      "\n",
      "(新版所營事業代碼對照查詢)\n",
      "\n",
      "\n",
      "\n",
      "\n",
      "\n",
      "\n",
      "                    C802100 \n",
      "                    化粧品製造業\n",
      "\n",
      "                    \n",
      "                 \n",
      "\n",
      "\n",
      "\n",
      "                    F102040 \n",
      "                    飲料批發業\n",
      "\n",
      "                    \n",
      "                 \n",
      "\n",
      "\n",
      "\n",
      "                    F102170 \n",
      "                    食品什貨批發業\n",
      "\n",
      "                    \n",
      "                 \n",
      "\n",
      "\n",
      "\n",
      "                    F104110 \n",
      "                    布疋、衣著、鞋、帽、傘、服飾品批發業\n",
      "\n",
      "                    \n",
      "                 \n",
      "\n",
      "\n",
      "\n",
      "                    F107200 \n",
      "                    化學原料批發業\n",
      "\n",
      "                    \n",
      "                 \n",
      "\n",
      "\n",
      "\n",
      "                    F107990 \n",
      "                    其他化學製品批發業\n",
      "\n",
      "                    \n",
      "                 \n",
      "\n",
      "\n",
      "\n",
      "                    F108040 \n",
      "                    化粧品批發業\n",
      "\n",
      "                    \n",
      "                 \n",
      "\n",
      "\n",
      "\n",
      "                    F113010 \n",
      "                    機械批發業\n",
      "\n",
      "                    \n",
      "                 \n",
      "\n",
      "\n",
      "\n",
      "                    F113020 \n",
      "                    電器批發業\n",
      "\n",
      "                    \n",
      "                 \n",
      "\n",
      "\n",
      "\n",
      "                    F113050 \n",
      "                    電腦及事務性機器設備批發業\n",
      "\n",
      "                    \n",
      "                 \n",
      "\n",
      "\n",
      "\n",
      "                    F113990 \n",
      "                    其他機械器具批發業\n",
      "\n",
      "                    \n",
      "                 \n",
      "\n",
      "\n",
      "\n",
      "                    F115010 \n",
      "                    首飾及貴金屬批發業\n",
      "\n",
      "                    \n",
      "                 \n",
      "\n",
      "\n",
      "\n",
      "                    F119010 \n",
      "                    電子材料批發業\n",
      "\n",
      "                    \n",
      "                 \n",
      "\n",
      "\n",
      "\n",
      "                    F203010 \n",
      "                    食品什貨、飲料零售業\n",
      "\n",
      "                    \n",
      "                 \n",
      "\n",
      "\n",
      "\n",
      "                    F204110 \n",
      "                    布疋、衣著、鞋、帽、傘、服飾品零售業\n",
      "\n",
      "                    \n",
      "                 \n",
      "\n",
      "\n",
      "\n",
      "                    F207200 \n",
      "                    化學原料零售業\n",
      "\n",
      "                    \n",
      "                 \n",
      "\n",
      "\n",
      "\n",
      "                    F207990 \n",
      "                    其他化學製品零售業\n",
      "\n",
      "                    \n",
      "                 \n",
      "\n",
      "\n",
      "\n",
      "                    F208040 \n",
      "                    化粧品零售業\n",
      "\n",
      "                    \n",
      "                 \n",
      "\n",
      "\n",
      "\n",
      "                    F213010 \n",
      "                    電器零售業\n",
      "\n",
      "                    \n",
      "                 \n",
      "\n",
      "\n",
      "\n",
      "                    F213030 \n",
      "                    電腦及事務性機器設備零售業\n",
      "\n",
      "                    \n",
      "                 \n",
      "\n",
      "\n",
      "\n",
      "                    F213080 \n",
      "                    機械器具零售業\n",
      "\n",
      "                    \n",
      "                 \n",
      "\n",
      "\n",
      "\n",
      "                    F213990 \n",
      "                    其他機械器具零售業\n",
      "\n",
      "                    \n",
      "                 \n",
      "\n",
      "\n",
      "\n",
      "                    F215010 \n",
      "                    首飾及貴金屬零售業\n",
      "\n",
      "                    \n",
      "                 \n",
      "\n",
      "\n",
      "\n",
      "                    F219010 \n",
      "                    電子材料零售業\n",
      "\n",
      "                    \n",
      "                 \n",
      "\n",
      "\n",
      "\n",
      "                    F301020 \n",
      "                    超級市場業\n",
      "\n",
      "                    \n",
      "                 \n",
      "\n",
      "\n",
      "\n",
      "                    F401010 \n",
      "                    國際貿易業\n",
      "\n",
      "                    \n",
      "                 \n",
      "\n",
      "\n",
      "\n",
      "                    H701050 \n",
      "                    投資興建公共建設業\n",
      "\n",
      "                    \n",
      "                 \n",
      "\n",
      "\n",
      "\n",
      "                    I103060 \n",
      "                    管理顧問業\n",
      "\n",
      "                    \n",
      "                 \n",
      "\n",
      "\n",
      "\n",
      "                    I199990 \n",
      "                    其他顧問服務業\n",
      "\n",
      "                    \n",
      "                 \n",
      "\n",
      "\n",
      "\n",
      "                    I501010 \n",
      "                    產品設計業\n",
      "\n",
      "                    \n",
      "                 \n",
      "\n",
      "\n",
      "\n",
      "                    IG01010 \n",
      "                    生物技術服務業\n",
      "\n",
      "                    \n",
      "                 \n",
      "\n",
      "\n",
      "\n",
      "                    JZ99080 \n",
      "                    美容美髮服務業\n",
      "\n",
      "                    \n",
      "                 \n",
      "\n",
      "\n",
      "\n",
      "                    JZ99110 \n",
      "                    瘦身美容業\n",
      "\n",
      "                    \n",
      "                 \n",
      "\n",
      "\n",
      "\n",
      "                    ZZ99999 \n",
      "                    除許可業務外，得經營法令非禁止或限制之業務\n",
      "\n",
      "                    \n",
      "                 \n",
      "\n",
      "\n",
      "\n",
      "                    JE01010 \n",
      "                    租賃業\n",
      "\n",
      "                    \n",
      "                 \n",
      "\n",
      "\n",
      "\n",
      "\n",
      "                    C802100 \n",
      "                    化粧品製造業\n",
      "\n",
      "                    \n",
      "                 \n",
      "\n",
      "                    F102040 \n",
      "                    飲料批發業\n",
      "\n",
      "                    \n",
      "                 \n",
      "\n",
      "                    F102170 \n",
      "                    食品什貨批發業\n",
      "\n",
      "                    \n",
      "                 \n",
      "\n",
      "                    F104110 \n",
      "                    布疋、衣著、鞋、帽、傘、服飾品批發業\n",
      "\n",
      "                    \n",
      "                 \n",
      "\n",
      "                    F107200 \n",
      "                    化學原料批發業\n",
      "\n",
      "                    \n",
      "                 \n",
      "\n",
      "                    F107990 \n",
      "                    其他化學製品批發業\n",
      "\n",
      "                    \n",
      "                 \n",
      "\n",
      "                    F108040 \n",
      "                    化粧品批發業\n",
      "\n",
      "                    \n",
      "                 \n",
      "\n",
      "                    F113010 \n",
      "                    機械批發業\n",
      "\n",
      "                    \n",
      "                 \n",
      "\n",
      "                    F113020 \n",
      "                    電器批發業\n",
      "\n",
      "                    \n",
      "                 \n",
      "\n",
      "                    F113050 \n",
      "                    電腦及事務性機器設備批發業\n",
      "\n",
      "                    \n",
      "                 \n",
      "\n",
      "                    F113990 \n",
      "                    其他機械器具批發業\n",
      "\n",
      "                    \n",
      "                 \n",
      "\n",
      "                    F115010 \n",
      "                    首飾及貴金屬批發業\n",
      "\n",
      "                    \n",
      "                 \n",
      "\n",
      "                    F119010 \n",
      "                    電子材料批發業\n",
      "\n",
      "                    \n",
      "                 \n",
      "\n",
      "                    F203010 \n",
      "                    食品什貨、飲料零售業\n",
      "\n",
      "                    \n",
      "                 \n",
      "\n",
      "                    F204110 \n",
      "                    布疋、衣著、鞋、帽、傘、服飾品零售業\n",
      "\n",
      "                    \n",
      "                 \n",
      "\n",
      "                    F207200 \n",
      "                    化學原料零售業\n",
      "\n",
      "                    \n",
      "                 \n",
      "\n",
      "                    F207990 \n",
      "                    其他化學製品零售業\n",
      "\n",
      "                    \n",
      "                 \n",
      "\n",
      "                    F208040 \n",
      "                    化粧品零售業\n",
      "\n",
      "                    \n",
      "                 \n",
      "\n",
      "                    F213010 \n",
      "                    電器零售業\n",
      "\n",
      "                    \n",
      "                 \n",
      "\n",
      "                    F213030 \n",
      "                    電腦及事務性機器設備零售業\n",
      "\n",
      "                    \n",
      "                 \n",
      "\n",
      "                    F213080 \n",
      "                    機械器具零售業\n",
      "\n",
      "                    \n",
      "                 \n",
      "\n",
      "                    F213990 \n",
      "                    其他機械器具零售業\n",
      "\n",
      "                    \n",
      "                 \n",
      "\n",
      "                    F215010 \n",
      "                    首飾及貴金屬零售業\n",
      "\n",
      "                    \n",
      "                 \n",
      "\n",
      "                    F219010 \n",
      "                    電子材料零售業\n",
      "\n",
      "                    \n",
      "                 \n",
      "\n",
      "                    F301020 \n",
      "                    超級市場業\n",
      "\n",
      "                    \n",
      "                 \n",
      "\n",
      "                    F401010 \n",
      "                    國際貿易業\n",
      "\n",
      "                    \n",
      "                 \n",
      "\n",
      "                    H701050 \n",
      "                    投資興建公共建設業\n",
      "\n",
      "                    \n",
      "                 \n",
      "\n",
      "                    I103060 \n",
      "                    管理顧問業\n",
      "\n",
      "                    \n",
      "                 \n",
      "\n",
      "                    I199990 \n",
      "                    其他顧問服務業\n",
      "\n",
      "                    \n",
      "                 \n",
      "\n",
      "                    I501010 \n",
      "                    產品設計業\n",
      "\n",
      "                    \n",
      "                 \n",
      "\n",
      "                    IG01010 \n",
      "                    生物技術服務業\n",
      "\n",
      "                    \n",
      "                 \n",
      "\n",
      "                    JZ99080 \n",
      "                    美容美髮服務業\n",
      "\n",
      "                    \n",
      "                 \n",
      "\n",
      "                    JZ99110 \n",
      "                    瘦身美容業\n",
      "\n",
      "                    \n",
      "                 \n",
      "\n",
      "                    ZZ99999 \n",
      "                    除許可業務外，得經營法令非禁止或限制之業務\n",
      "\n",
      "                    \n",
      "                 \n",
      "\n",
      "                    JE01010 \n",
      "                    租賃業\n",
      "\n",
      "                    \n",
      "                 \n",
      " \n",
      "序號\n",
      "職稱\n",
      "姓名\n",
      "所代表法人\n",
      "\n",
      "\t\t\t\t\t\t出資額\n",
      "\t\t\t\t\t\t\n",
      "\t\t\t\t\t\n",
      "\n",
      "0001\n",
      "\n",
      "\t\t\t\t\t\t董事\n",
      "\n",
      "\t\t\t\t\t\t\n",
      "\n",
      "\n",
      "\n",
      "\n",
      "\n",
      "\t\t\t\t\t\t\n",
      "\t\t\t\t\t\t\t楊有家\n",
      "\n",
      "\t\t\t\t\t\t\n",
      "\t\t\t\t\t\n",
      "\n",
      "\n",
      "\n",
      "\n",
      "\n",
      "\n",
      "\t\t\t\t\t\t1,500,000\n",
      "\t\t\t\t\t\n"
     ]
    }
   ],
   "source": [
    "for td in soup.select(\".interval_bgcolor td\"):\n",
    "    print(td.text)"
   ]
  },
  {
   "cell_type": "code",
   "execution_count": null,
   "metadata": {
    "collapsed": true
   },
   "outputs": [],
   "source": []
  },
  {
   "cell_type": "code",
   "execution_count": null,
   "metadata": {
    "collapsed": true
   },
   "outputs": [],
   "source": [
    "# change page to each tab with tab10,20,30,40,50\n",
    "#driver.find_element_by_id(\"tab20.div\").click()"
   ]
  },
  {
   "cell_type": "code",
   "execution_count": null,
   "metadata": {
    "collapsed": true
   },
   "outputs": [],
   "source": []
  },
  {
   "cell_type": "code",
   "execution_count": 40,
   "metadata": {
    "collapsed": false
   },
   "outputs": [
    {
     "data": {
      "text/plain": [
       "True"
      ]
     },
     "execution_count": 40,
     "metadata": {},
     "output_type": "execute_result"
    }
   ],
   "source": [
    "driver.save_screenshot('quicklook.jpg')"
   ]
  },
  {
   "cell_type": "code",
   "execution_count": null,
   "metadata": {
    "collapsed": true
   },
   "outputs": [],
   "source": []
  }
 ],
 "metadata": {
  "kernelspec": {
   "display_name": "Python 3",
   "language": "python",
   "name": "python3"
  },
  "language_info": {
   "codemirror_mode": {
    "name": "ipython",
    "version": 3
   },
   "file_extension": ".py",
   "mimetype": "text/x-python",
   "name": "python",
   "nbconvert_exporter": "python",
   "pygments_lexer": "ipython3",
   "version": "3.5.2"
  }
 },
 "nbformat": 4,
 "nbformat_minor": 1
}
