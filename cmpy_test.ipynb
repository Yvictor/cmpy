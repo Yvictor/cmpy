{
 "cells": [
  {
   "cell_type": "code",
   "execution_count": 3,
   "metadata": {
    "collapsed": true
   },
   "outputs": [],
   "source": [
    "from selenium import webdriver\n",
    "from pyvirtualdisplay import Display\n",
    "from bs4 import BeautifulSoup as BS\n",
    "from PIL import Image\n",
    "import io\n",
    "import os\n",
    "import base64\n",
    "import pytesseract"
   ]
  },
  {
   "cell_type": "code",
   "execution_count": 4,
   "metadata": {
    "collapsed": false
   },
   "outputs": [],
   "source": [
    "#! pip install pytesseract"
   ]
  },
  {
   "cell_type": "code",
   "execution_count": 5,
   "metadata": {
    "collapsed": false
   },
   "outputs": [],
   "source": [
    "#! wget https://github.com/mozilla/geckodriver/releases/download/v0.12.0/geckodriver-v0.12.0-linux64.tar.gz\n",
    "#! tar -xvf geckodriver-v0.12.0-linux64.tar.gz"
   ]
  },
  {
   "cell_type": "code",
   "execution_count": 5,
   "metadata": {
    "collapsed": false
   },
   "outputs": [
    {
     "data": {
      "text/plain": [
       "<Display cmd_param=['Xvfb', '-br', '-nolisten', 'tcp', '-screen', '0', '1024x768x24', ':1033'] cmd=['Xvfb', '-br', '-nolisten', 'tcp', '-screen', '0', '1024x768x24', ':1033'] oserror=None return_code=None stdout=\"None\" stderr=\"None\" timeout_happened=False>"
      ]
     },
     "execution_count": 5,
     "metadata": {},
     "output_type": "execute_result"
    }
   ],
   "source": [
    "display = Display(visible=0, size=(1024, 768))\n",
    "display.start()"
   ]
  },
  {
   "cell_type": "code",
   "execution_count": 6,
   "metadata": {
    "collapsed": false
   },
   "outputs": [],
   "source": [
    "driver = webdriver.Firefox()#executable_path=os.getcwd()+'/geckodriver')"
   ]
  },
  {
   "cell_type": "code",
   "execution_count": 7,
   "metadata": {
    "collapsed": true
   },
   "outputs": [],
   "source": [
    "home_page = 'http://gcis.nat.gov.tw/pub/cmpy/cmpyInfoListAction.do'\n",
    "driver.get(home_page)"
   ]
  },
  {
   "cell_type": "code",
   "execution_count": 8,
   "metadata": {
    "collapsed": false
   },
   "outputs": [],
   "source": [
    "driver.find_element_by_xpath('//input[@name=\"selCmpyType\"][@value=\"1\"]').click()"
   ]
  },
  {
   "cell_type": "code",
   "execution_count": 9,
   "metadata": {
    "collapsed": false
   },
   "outputs": [],
   "source": [
    "driver.find_element_by_xpath('//input[@name=\"selQueryType\"][@value=\"3\"]').click()"
   ]
  },
  {
   "cell_type": "code",
   "execution_count": 8,
   "metadata": {
    "collapsed": false
   },
   "outputs": [],
   "source": [
    "driver.find_element_by_name('queryStr').send_keys('微星')"
   ]
  },
  {
   "cell_type": "code",
   "execution_count": 95,
   "metadata": {
    "collapsed": false
   },
   "outputs": [],
   "source": [
    "# reload captcha\n",
    "driver.find_element_by_xpath('//img[@src=\"../images/kaptcha.png\"]').click()"
   ]
  },
  {
   "cell_type": "code",
   "execution_count": 96,
   "metadata": {
    "collapsed": false
   },
   "outputs": [
    {
     "data": {
      "image/png": "[encoded data removed]",
      "text/plain": [
       "<PIL.PngImagePlugin.PngImageFile image mode=RGBA size=120x40 at 0x7F2D844E2748>"
      ]
     },
     "execution_count": 96,
     "metadata": {},
     "output_type": "execute_result"
    }
   ],
   "source": [
    "capt_b64 = driver.find_element_by_id('kaptcha').screenshot_as_base64\n",
    "capt_img = Image.open(io.BytesIO(base64.b64decode(capt_b64)))\n",
    "capt_img"
   ]
  },
  {
   "cell_type": "code",
   "execution_count": 97,
   "metadata": {
    "collapsed": false
   },
   "outputs": [
    {
     "data": {
      "text/plain": [
       "'426110'"
      ]
     },
     "execution_count": 97,
     "metadata": {},
     "output_type": "execute_result"
    }
   ],
   "source": [
    "capt_str = pytesseract.image_to_string(capt_img)\n",
    "capt_str = ('').join(capt_str.split(' '))\n",
    "capt_str"
   ]
  },
  {
   "cell_type": "code",
   "execution_count": 98,
   "metadata": {
    "collapsed": false
   },
   "outputs": [],
   "source": [
    "with open(\"captcha_data/%s.png\"%capt_str,\"wb\") as capt:\n",
    "    capt.write(base64.b64decode(capt_b64))"
   ]
  },
  {
   "cell_type": "code",
   "execution_count": null,
   "metadata": {
    "collapsed": true
   },
   "outputs": [],
   "source": []
  },
  {
   "cell_type": "code",
   "execution_count": 13,
   "metadata": {
    "collapsed": false
   },
   "outputs": [],
   "source": [
    "img_code = '452386'\n",
    "driver.find_element_by_name('imageCode').send_keys(img_code)"
   ]
  },
  {
   "cell_type": "code",
   "execution_count": 15,
   "metadata": {
    "collapsed": true
   },
   "outputs": [],
   "source": [
    "driver.find_element_by_name('submitData').click()"
   ]
  },
  {
   "cell_type": "code",
   "execution_count": 13,
   "metadata": {
    "collapsed": true
   },
   "outputs": [],
   "source": [
    "import numpy as np\n",
    "from PIL import Image, ImageDraw, ImageFont"
   ]
  },
  {
   "cell_type": "code",
   "execution_count": 49,
   "metadata": {
    "collapsed": false
   },
   "outputs": [
    {
     "data": {
      "image/png": "[encoded data removed]",
      "text/plain": [
       "<PIL.JpegImagePlugin.JpegImageFile image mode=RGB size=120x40 at 0x7FC62DDA36D8>"
      ]
     },
     "execution_count": 49,
     "metadata": {},
     "output_type": "execute_result"
    }
   ],
   "source": [
    "paint_text('345678',120,40)"
   ]
  },
  {
   "cell_type": "code",
   "execution_count": 48,
   "metadata": {
    "collapsed": true
   },
   "outputs": [],
   "source": [
    "def paint_text(text, w, h):\n",
    "    font_size = 28\n",
    "    background_color = (208,208,208)\n",
    "    base = Image.new('RGBA', (w, h), color=background_color)\n",
    "    #fonts_list = [f for f in os.listdir('fonts') if f.endswith('.ttf')]\n",
    "    \n",
    "    # add text\n",
    "    #random_text_change_font = np.random.randint(6,size=np.random.randint(low=0,high=3))\n",
    "    for ind in range(len(text)):\n",
    "        #font_size = np.random.randint(23,27)\n",
    "        single_text = text[ind]\n",
    "        img_txt = Image.new('RGBA', (font_size+5, font_size+5), color=(0,0,0,0))\n",
    "        textc_limited = (145, 170)\n",
    "        text_color = (0,0,190)\n",
    "                      #np.random.randint(low=textc_limited[0], high=textc_limited[1]))\n",
    "        draw_txt = ImageDraw.Draw(img_txt)\n",
    "        use_font = 'FreeSans.ttf'\n",
    "        #if ind in random_text_change_font:\n",
    "            #use_font = np.random.choice(fonts_list)\n",
    "        font = ImageFont.truetype(\"fonts/%s\"%use_font, font_size)\n",
    "        draw_txt.text((0, 0), single_text, font=font, fill=text_color)\n",
    "        rotate_angle = 0#np.random.randint(low=-1, high=1)\n",
    "        rotate_img = img_txt#.rotate(rotate_angle, expand=np.random.randint(3))\n",
    "        text_index = ind\n",
    "        remain_w = 10\n",
    "        each_w = int((w - remain_w * 2) / len(text))\n",
    "        random_for_x = 0#np.random.randint(low=-2, high=2)\n",
    "        position_x = text_index * each_w + remain_w + random_for_x\n",
    "        paste_position = (position_x, 3)#np.random.randint(low=2, high=30))\n",
    "        base.paste(rotate_img, paste_position, rotate_img)\n",
    "    \n",
    "   \n",
    "    CAPTCHA_PATH = os.environ.get('CAPTCHA_PATH', 'captcha_gen')\n",
    "    if not os.path.exists(CAPTCHA_PATH):\n",
    "        os.makedirs(CAPTCHA_PATH)\n",
    "    if os.path.exists('%s/%s.jpeg'%(CAPTCHA_PATH, text)):\n",
    "        os.remove('%s/%s.jpeg'%(CAPTCHA_PATH, text))\n",
    "    base.save('%s/%s.jpeg'%(CAPTCHA_PATH, text), format='JPEG', quality=80)\n",
    "    while os.path.exists('%s/%s.jpeg'%(CAPTCHA_PATH, text))==False:\n",
    "        pass\n",
    "    base = Image.open('%s/%s.jpeg'%(CAPTCHA_PATH, text))\n",
    "\n",
    "    return base#np.asarray(base.convert('L')).reshape(h, w, 1).astype(np.float32) / 255"
   ]
  },
  {
   "cell_type": "code",
   "execution_count": 43,
   "metadata": {
    "collapsed": false
   },
   "outputs": [
    {
     "data": {
      "text/plain": [
       "True"
      ]
     },
     "execution_count": 43,
     "metadata": {},
     "output_type": "execute_result"
    }
   ],
   "source": [
    "driver.save_screenshot('quicklook.jpg')"
   ]
  },
  {
   "cell_type": "code",
   "execution_count": null,
   "metadata": {
    "collapsed": true
   },
   "outputs": [],
   "source": []
  }
 ],
 "metadata": {
  "kernelspec": {
   "display_name": "Python 3",
   "language": "python",
   "name": "python3"
  },
  "language_info": {
   "codemirror_mode": {
    "name": "ipython",
    "version": 3
   },
   "file_extension": ".py",
   "mimetype": "text/x-python",
   "name": "python",
   "nbconvert_exporter": "python",
   "pygments_lexer": "ipython3",
   "version": "3.5.2"
  }
 },
 "nbformat": 4,
 "nbformat_minor": 1
}
